{
 "cells": [
  {
   "cell_type": "code",
   "execution_count": 1,
   "id": "b44d5b45",
   "metadata": {},
   "outputs": [],
   "source": [
    "import tifffile\n",
    "import numpy as np\n",
    "\n",
    "from merge_stardist_masks.moments import lbl_to_local_descriptors\n",
    "from merge_stardist_masks.moments import sliced_local_descriptors_to_lbl\n",
    "from merge_stardist_masks.moments import sliced_local_descriptors_numba_2d"
   ]
  },
  {
   "cell_type": "code",
   "execution_count": 13,
   "id": "977c0425",
   "metadata": {},
   "outputs": [],
   "source": [
    "lbl = tifffile.imread(\"/mnt/z/Andreea/deepSegmentation/stackedTimeSeriesData/pos10_lbl.tif\")[0]"
   ]
  },
  {
   "cell_type": "code",
   "execution_count": 14,
   "id": "c326207b",
   "metadata": {},
   "outputs": [],
   "source": [
    "desc = lbl_to_local_descriptors(lbl)"
   ]
  },
  {
   "cell_type": "code",
   "execution_count": 15,
   "id": "728a4d72",
   "metadata": {},
   "outputs": [],
   "source": [
    "lbl2 = sliced_local_descriptors_numba_2d(desc)"
   ]
  },
  {
   "cell_type": "code",
   "execution_count": 16,
   "id": "0082ecff",
   "metadata": {},
   "outputs": [
    {
     "name": "stdout",
     "output_type": "stream",
     "text": [
      "21 ms ± 61.8 µs per loop (mean ± std. dev. of 7 runs, 10 loops each)\n"
     ]
    }
   ],
   "source": [
    "%%timeit\n",
    "\n",
    "lbl2 = sliced_local_descriptors_numba_2d(desc)"
   ]
  },
  {
   "cell_type": "code",
   "execution_count": 17,
   "id": "f71aacd6",
   "metadata": {},
   "outputs": [],
   "source": [
    "lbl1 = sliced_local_descriptors_to_lbl(desc)"
   ]
  },
  {
   "cell_type": "code",
   "execution_count": 18,
   "id": "21a29570",
   "metadata": {},
   "outputs": [
    {
     "name": "stdout",
     "output_type": "stream",
     "text": [
      "22.6 ms ± 225 µs per loop (mean ± std. dev. of 7 runs, 10 loops each)\n"
     ]
    }
   ],
   "source": [
    "%%timeit\n",
    "\n",
    "lbl1 = sliced_local_descriptors_to_lbl(desc, stride_len=11)"
   ]
  },
  {
   "cell_type": "code",
   "execution_count": 19,
   "id": "8cec5f6d",
   "metadata": {},
   "outputs": [
    {
     "name": "stdout",
     "output_type": "stream",
     "text": [
      "24.4 ms ± 39.9 µs per loop (mean ± std. dev. of 7 runs, 10 loops each)\n"
     ]
    }
   ],
   "source": [
    "%%timeit\n",
    "\n",
    "lbl1 = sliced_local_descriptors_to_lbl(desc, stride_len=9)"
   ]
  },
  {
   "cell_type": "code",
   "execution_count": 20,
   "id": "7a90c00f",
   "metadata": {},
   "outputs": [
    {
     "name": "stdout",
     "output_type": "stream",
     "text": [
      "28 ms ± 82.3 µs per loop (mean ± std. dev. of 7 runs, 10 loops each)\n"
     ]
    }
   ],
   "source": [
    "%%timeit\n",
    "\n",
    "lbl1 = sliced_local_descriptors_to_lbl(desc, stride_len=7)"
   ]
  },
  {
   "cell_type": "code",
   "execution_count": 21,
   "id": "ee93fcb6",
   "metadata": {},
   "outputs": [
    {
     "name": "stdout",
     "output_type": "stream",
     "text": [
      "33.4 ms ± 117 µs per loop (mean ± std. dev. of 7 runs, 10 loops each)\n"
     ]
    }
   ],
   "source": [
    "%%timeit\n",
    "\n",
    "lbl1 = sliced_local_descriptors_to_lbl(desc, stride_len=5)"
   ]
  },
  {
   "cell_type": "code",
   "execution_count": 12,
   "id": "a8afc9eb",
   "metadata": {},
   "outputs": [
    {
     "data": {
      "text/plain": [
       "True"
      ]
     },
     "execution_count": 12,
     "metadata": {},
     "output_type": "execute_result"
    }
   ],
   "source": [
    "np.all((lbl1>0) == (lbl2>0))"
   ]
  },
  {
   "cell_type": "code",
   "execution_count": 22,
   "id": "59a0e635",
   "metadata": {},
   "outputs": [
    {
     "data": {
      "text/plain": [
       "True"
      ]
     },
     "execution_count": 22,
     "metadata": {},
     "output_type": "execute_result"
    }
   ],
   "source": [
    "np.all((lbl1>0) == (lbl>0))"
   ]
  },
  {
   "cell_type": "code",
   "execution_count": null,
   "id": "3d358771",
   "metadata": {},
   "outputs": [],
   "source": []
  }
 ],
 "metadata": {
  "kernelspec": {
   "display_name": "Python 3 (ipykernel)",
   "language": "python",
   "name": "python3"
  },
  "language_info": {
   "codemirror_mode": {
    "name": "ipython",
    "version": 3
   },
   "file_extension": ".py",
   "mimetype": "text/x-python",
   "name": "python",
   "nbconvert_exporter": "python",
   "pygments_lexer": "ipython3",
   "version": "3.9.0"
  }
 },
 "nbformat": 4,
 "nbformat_minor": 5
}
