{
 "cells": [
  {
   "cell_type": "code",
   "execution_count": 1,
   "id": "b90772fa",
   "metadata": {},
   "outputs": [],
   "source": [
    "import tifffile\n",
    "import numpy as np\n",
    "from merge_stardist_masks import tracking\n",
    "\n",
    "from scipy.spatial import distance_matrix"
   ]
  },
  {
   "cell_type": "code",
   "execution_count": 2,
   "id": "bba41c9a",
   "metadata": {},
   "outputs": [],
   "source": [
    "lbls = tifffile.imread(\"/mnt/z/Andreea/deepSegmentation/stackedTimeSeriesData/pos6_lbl.tif\")"
   ]
  },
  {
   "cell_type": "code",
   "execution_count": 3,
   "id": "a8281325",
   "metadata": {},
   "outputs": [
    {
     "data": {
      "text/plain": [
       "(19, 201, 331)"
      ]
     },
     "execution_count": 3,
     "metadata": {},
     "output_type": "execute_result"
    }
   ],
   "source": [
    "lbls.shape"
   ]
  },
  {
   "cell_type": "code",
   "execution_count": 4,
   "id": "696ae0a0",
   "metadata": {},
   "outputs": [],
   "source": [
    "displacement_maps_ = tracking.prepare_displacement_maps(lbls)"
   ]
  },
  {
   "cell_type": "code",
   "execution_count": 5,
   "id": "36f011ce",
   "metadata": {},
   "outputs": [],
   "source": [
    "displacement_maps = np.zeros((19, 201, 331, 3))\n",
    "displacement_maps[1:] = displacement_maps_"
   ]
  },
  {
   "cell_type": "code",
   "execution_count": 6,
   "id": "1ef60835",
   "metadata": {},
   "outputs": [],
   "source": [
    "tifffile.imwrite(\"/mnt/d/displacement_maps.tif\", displacement_maps.transpose(3, 0, 1, 2))"
   ]
  },
  {
   "cell_type": "code",
   "execution_count": 7,
   "id": "6d10e524",
   "metadata": {},
   "outputs": [
    {
     "data": {
      "text/plain": [
       "(19, 201, 331, 3)"
      ]
     },
     "execution_count": 7,
     "metadata": {},
     "output_type": "execute_result"
    }
   ],
   "source": [
    "displacement_maps.shape"
   ]
  },
  {
   "cell_type": "code",
   "execution_count": 8,
   "id": "11f2e3df",
   "metadata": {},
   "outputs": [],
   "source": [
    "newlbl = np.copy(lbls)\n",
    "newlbl[0, newlbl[0] > 0] += 100"
   ]
  },
  {
   "cell_type": "code",
   "execution_count": null,
   "id": "c0e5b4b8",
   "metadata": {},
   "outputs": [],
   "source": [
    "newlbl[1] = tracking.track_from_displacement_map(\n",
    "    newlbl[0], newlbl[1], displacement_maps_[0]\n",
    ")"
   ]
  },
  {
   "cell_type": "code",
   "execution_count": null,
   "id": "0404fbbb",
   "metadata": {},
   "outputs": [],
   "source": [
    "for i in range(1, newlbl.shape[0]):\n",
    "    newlbl[i] = tracking.track_from_displacement_map(\n",
    "        newlbl[i - 1], newlbl[i], displacement_maps_[i - 1]\n",
    "    )"
   ]
  },
  {
   "cell_type": "code",
   "execution_count": 9,
   "id": "25755087",
   "metadata": {},
   "outputs": [],
   "source": [
    "tifffile.imwrite(\"/mnt/d/tracked_lbls.tif\", tracking.track_from_displacement_map(lbls, displacement_maps_))"
   ]
  },
  {
   "cell_type": "code",
   "execution_count": 13,
   "id": "b229dd2e",
   "metadata": {},
   "outputs": [
    {
     "data": {
      "text/plain": [
       "(20,)"
      ]
     },
     "execution_count": 13,
     "metadata": {},
     "output_type": "execute_result"
    }
   ],
   "source": [
    "x = np.random.normal(size=(50, 2))\n",
    "y = np.random.normal(size=(20, 2))\n",
    "\n",
    "np.argmin(distance_matrix(x, y), axis=0).shape"
   ]
  },
  {
   "cell_type": "code",
   "execution_count": null,
   "id": "8510cee7",
   "metadata": {},
   "outputs": [],
   "source": []
  }
 ],
 "metadata": {
  "kernelspec": {
   "display_name": "Python 3 (ipykernel)",
   "language": "python",
   "name": "python3"
  },
  "language_info": {
   "codemirror_mode": {
    "name": "ipython",
    "version": 3
   },
   "file_extension": ".py",
   "mimetype": "text/x-python",
   "name": "python",
   "nbconvert_exporter": "python",
   "pygments_lexer": "ipython3",
   "version": "3.9.0"
  }
 },
 "nbformat": 4,
 "nbformat_minor": 5
}
